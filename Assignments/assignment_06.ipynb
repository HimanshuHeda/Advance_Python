{
 "cells": [
  {
   "cell_type": "code",
   "execution_count": null,
   "metadata": {},
   "outputs": [],
   "source": [
    "plt.figure(figsize=(8, 6))\n",
    "m = Basemap(projection=\"merc\", llcrnrlat=5, urcrnrlat=40, llcrnrlon=65, urcrnrlon=100, resolution=\"l\")\n",
    "\n",
    "m.drawcoastlines()\n",
    "m.drawcountries()\n",
    "m.drawstates()\n",
    "\n",
    "delhi = (28.6139, 77.2090)\n",
    "mumbai = (19.0760, 72.8777)\n",
    "\n",
    "x_delhi, y_delhi = m(delhi[1], delhi[0])\n",
    "x_mumbai, y_mumbai = m(mumbai[1], mumbai[0])\n",
    "\n",
    "m.scatter(x_delhi, y_delhi, marker=\"o\", color=\"red\", s=100, label=\"Delhi\")\n",
    "m.scatter(x_mumbai, y_mumbai, marker=\"o\", color=\"blue\", s=100, label=\"Mumbai\")\n",
    "\n",
    "m.plot([x_delhi, x_mumbai], [y_delhi, y_mumbai], linestyle=\"dashed\", color=\"black\", linewidth=2)\n",
    "\n",
    "plt.title(\"Distance between Delhi and Mumbai\")\n",
    "plt.legend()\n",
    "plt.show()"
   ]
  }
 ],
 "metadata": {
  "language_info": {
   "name": "python"
  }
 },
 "nbformat": 4,
 "nbformat_minor": 2
}
